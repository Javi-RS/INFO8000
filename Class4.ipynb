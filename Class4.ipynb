{
 "cells": [
  {
   "cell_type": "code",
   "execution_count": 56,
   "metadata": {},
   "outputs": [],
   "source": [
    "import json\n",
    "import requests\n",
    "from matplotlib import pyplot as plt"
   ]
  },
  {
   "cell_type": "code",
   "execution_count": 37,
   "metadata": {},
   "outputs": [
    {
     "name": "stdout",
     "output_type": "stream",
     "text": [
      "https://api.openweathermap.org/data/2.5/weather\n"
     ]
    }
   ],
   "source": [
    "key = \"221801f76c32999fabb0ec83eafe2c01\"\n",
    "domain = \"api.openweathermap.org\"\n",
    "protocol = \"https://\"\n",
    "resource = \"/data/2.5/weather\"\n",
    "params = {\"zip\":\"30602,us\",\"appid\":key,\"units\":\"metric\"}\n",
    "url = protocol+domain+resource\n",
    "print(url)"
   ]
  },
  {
   "cell_type": "code",
   "execution_count": 38,
   "metadata": {},
   "outputs": [],
   "source": [
    "resp = requests.get(url,params)"
   ]
  },
  {
   "cell_type": "code",
   "execution_count": 39,
   "metadata": {},
   "outputs": [
    {
     "name": "stdout",
     "output_type": "stream",
     "text": [
      "{'coord': {'lon': -83.37, 'lat': 33.94}, 'weather': [{'id': 804, 'main': 'Clouds', 'description': 'overcast clouds', 'icon': '04d'}], 'base': 'stations', 'main': {'temp': 8.45, 'feels_like': 2.65, 'temp_min': 7, 'temp_max': 10, 'pressure': 1022, 'humidity': 39}, 'visibility': 16093, 'wind': {'speed': 4.6, 'deg': 80}, 'clouds': {'all': 90}, 'dt': 1579815158, 'sys': {'type': 1, 'id': 3252, 'country': 'US', 'sunrise': 1579782953, 'sunset': 1579820053}, 'timezone': -18000, 'id': 0, 'name': 'Athens', 'cod': 200}\n"
     ]
    }
   ],
   "source": [
    "data = resp.json()\n",
    "print(data)\n"
   ]
  },
  {
   "cell_type": "markdown",
   "metadata": {},
   "source": [
    "Second example"
   ]
  },
  {
   "cell_type": "code",
   "execution_count": 57,
   "metadata": {},
   "outputs": [],
   "source": [
    "key = \"221801f76c32999fabb0ec83eafe2c01\"\n",
    "domain = \"api.openweathermap.org\"\n",
    "protocol = \"https://\"\n",
    "version = \"/data/2.5/\"\n",
    "params = {\"zip\":\"30602,us\",\"appid\":key,\"units\":\"metric\"}\n",
    "weatherL_url = protocol+domain+version+\"weather\"\n",
    "forecast_url = protocol+domain+version+\"forecast\"\n"
   ]
  },
  {
   "cell_type": "code",
   "execution_count": 58,
   "metadata": {},
   "outputs": [],
   "source": [
    "resp = requests.get(forecast_url,params)"
   ]
  },
  {
   "cell_type": "code",
   "execution_count": 60,
   "metadata": {},
   "outputs": [
    {
     "data": {
      "text/plain": [
       "[<matplotlib.lines.Line2D at 0xffe777b448>]"
      ]
     },
     "execution_count": 60,
     "metadata": {},
     "output_type": "execute_result"
    },
    {
     "data": {
      "image/png": "[encoded data removed]",
      "text/plain": [
       "<Figure size 432x288 with 1 Axes>"
      ]
     },
     "metadata": {
      "needs_background": "light"
     },
     "output_type": "display_data"
    }
   ],
   "source": [
    "data = resp.json()\n",
    "forecast = data[\"list\"]\n",
    "times = []\n",
    "temps = []\n",
    "for day in forecast:\n",
    "    times.append(day['dt'])\n",
    "    temps.append(day['main']['temp'])\n",
    "plt.plot(times,temps)"
   ]
  },
  {
   "cell_type": "code",
   "execution_count": null,
   "metadata": {},
   "outputs": [],
   "source": []
  }
 ],
 "metadata": {
  "kernelspec": {
   "display_name": "Python 3",
   "language": "python",
   "name": "python3"
  },
  "language_info": {
   "codemirror_mode": {
    "name": "ipython",
    "version": 3
   },
   "file_extension": ".py",
   "mimetype": "text/x-python",
   "name": "python",
   "nbconvert_exporter": "python",
   "pygments_lexer": "ipython3",
   "version": "3.7.6"
  }
 },
 "nbformat": 4,
 "nbformat_minor": 4
}
