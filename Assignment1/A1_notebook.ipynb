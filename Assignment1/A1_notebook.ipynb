{
 "cells": [
  {
   "cell_type": "markdown",
   "metadata": {},
   "source": [
    "https://docs.google.com/forms/d/e/1FAIpQLSeIYiZkBtHsv1nJFFGzcWJEdWx_Uz5TziVGOLVLjit0ERT-Aw/viewform?usp=sf_link"
   ]
  },
  {
   "cell_type": "code",
   "execution_count": 3,
   "metadata": {},
   "outputs": [
    {
     "data": {
      "text/html": [
       "<div>\n",
       "<style scoped>\n",
       "    .dataframe tbody tr th:only-of-type {\n",
       "        vertical-align: middle;\n",
       "    }\n",
       "\n",
       "    .dataframe tbody tr th {\n",
       "        vertical-align: top;\n",
       "    }\n",
       "\n",
       "    .dataframe thead th {\n",
       "        text-align: right;\n",
       "    }\n",
       "</style>\n",
       "<table border=\"1\" class=\"dataframe\">\n",
       "  <thead>\n",
       "    <tr style=\"text-align: right;\">\n",
       "      <th></th>\n",
       "      <th>Timestamp</th>\n",
       "      <th>Full Name</th>\n",
       "      <th>Job Title</th>\n",
       "      <th>Number of students enrolled in the course</th>\n",
       "      <th>Department</th>\n",
       "      <th>Course name</th>\n",
       "      <th>Number of students enrolled in the course.1</th>\n",
       "      <th>What do you expect from the students enrolled in the course?</th>\n",
       "      <th>How important is \"Statistics\" for the course?</th>\n",
       "      <th>How important is \"Machine Learning\" for the course?</th>\n",
       "      <th>How important is \"Programming\" for the course?</th>\n",
       "      <th>How important is \"Python\" for the course?</th>\n",
       "      <th>How important is \"SQL/Databases\" for the course?</th>\n",
       "      <th>How important is \"Web APIS\" for the course?</th>\n",
       "      <th>In your opinion, how hard is get an A in this course?</th>\n",
       "      <th>What is some good advice for the students to make the most of the course?</th>\n",
       "    </tr>\n",
       "  </thead>\n",
       "  <tbody>\n",
       "  </tbody>\n",
       "</table>\n",
       "</div>"
      ],
      "text/plain": [
       "Empty DataFrame\n",
       "Columns: [Timestamp, Full Name, Job Title, Number of students enrolled in the course, Department, Course name, Number of students enrolled in the course.1, What do you expect from the students enrolled in the course?, How important is \"Statistics\" for the course?, How important is \"Machine Learning\" for the course?, How important is \"Programming\" for the course?, How important is \"Python\" for the course?, How important is \"SQL/Databases\" for the course?, How important is \"Web APIS\" for the course?, In your opinion, how hard is get an A in this course?, What is some good advice for the students to make the most of the course?]\n",
       "Index: []"
      ]
     },
     "execution_count": 3,
     "metadata": {},
     "output_type": "execute_result"
    }
   ],
   "source": [
    "import requests #great web library\n",
    "import pandas as pd #great table/dataframe library\n",
    "doc_id = \"1XA8XQ3eCt41V55m2RK_CZuLH8e_1IzE6F-P21mdOf8M\" #from your shared link\n",
    "url = f\"https://docs.google.com/spreadsheets/d/{doc_id}/gviz/tq?tqx=out:csv\" #beautiful python syntactic sugar\n",
    "res = requests.get(url) #Does the download\n",
    "open('./temp.csv', 'wb').write(res.content) #temporarily write to a file\n",
    "df = pd.read_csv('./temp.csv') #so that we can read it. \n",
    "df.head() #so we can see that it worked\n"
   ]
  },
  {
   "cell_type": "code",
   "execution_count": null,
   "metadata": {},
   "outputs": [],
   "source": []
  }
 ],
 "metadata": {
  "kernelspec": {
   "display_name": "Python 3",
   "language": "python",
   "name": "python3"
  },
  "language_info": {
   "codemirror_mode": {
    "name": "ipython",
    "version": 3
   },
   "file_extension": ".py",
   "mimetype": "text/x-python",
   "name": "python",
   "nbconvert_exporter": "python",
   "pygments_lexer": "ipython3",
   "version": "3.7.6"
  }
 },
 "nbformat": 4,
 "nbformat_minor": 4
}
