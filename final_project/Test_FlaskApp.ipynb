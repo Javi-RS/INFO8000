{
 "cells": [
  {
   "cell_type": "code",
   "execution_count": 1,
   "metadata": {},
   "outputs": [
    {
     "name": "stderr",
     "output_type": "stream",
     "text": [
      "C:\\ProgramData\\Anaconda3\\lib\\site-packages\\sklearn\\externals\\joblib\\__init__.py:15: FutureWarning: sklearn.externals.joblib is deprecated in 0.21 and will be removed in 0.23. Please import this functionality directly from joblib, which can be installed with: pip install joblib. If this warning is raised when loading pickled models, you may need to re-serialize those models with scikit-learn 0.21+.\n",
      "  warnings.warn(msg, category=FutureWarning)\n"
     ]
    }
   ],
   "source": [
    "import os\n",
    "from flask import Flask, flash, request, redirect, url_for, send_from_directory\n",
    "from werkzeug.utils import secure_filename\n",
    "from sklearn.externals import joblib\n",
    "import numpy as np\n",
    "import pandas as pd\n",
    "import cv2 as cv\n",
    "from PIL import Image\n",
    "import sys\n",
    "import matplotlib.pyplot as plt\n",
    "import seaborn as sns\n",
    "import csv"
   ]
  },
  {
   "cell_type": "code",
   "execution_count": 2,
   "metadata": {},
   "outputs": [
    {
     "data": {
      "text/html": [
       "<div>\n",
       "<style scoped>\n",
       "    .dataframe tbody tr th:only-of-type {\n",
       "        vertical-align: middle;\n",
       "    }\n",
       "\n",
       "    .dataframe tbody tr th {\n",
       "        vertical-align: top;\n",
       "    }\n",
       "\n",
       "    .dataframe thead th {\n",
       "        text-align: right;\n",
       "    }\n",
       "</style>\n",
       "<table border=\"1\" class=\"dataframe\">\n",
       "  <thead>\n",
       "    <tr style=\"text-align: right;\">\n",
       "      <th></th>\n",
       "      <th>plot_id</th>\n",
       "      <th>cotton_px</th>\n",
       "    </tr>\n",
       "  </thead>\n",
       "  <tbody>\n",
       "    <tr>\n",
       "      <th>0</th>\n",
       "      <td>plotid_102</td>\n",
       "      <td>2979</td>\n",
       "    </tr>\n",
       "    <tr>\n",
       "      <th>1</th>\n",
       "      <td>plotid_103</td>\n",
       "      <td>9203</td>\n",
       "    </tr>\n",
       "    <tr>\n",
       "      <th>2</th>\n",
       "      <td>plotid_105</td>\n",
       "      <td>27811</td>\n",
       "    </tr>\n",
       "    <tr>\n",
       "      <th>3</th>\n",
       "      <td>plotid_105</td>\n",
       "      <td>27811</td>\n",
       "    </tr>\n",
       "    <tr>\n",
       "      <th>4</th>\n",
       "      <td>plotid_105</td>\n",
       "      <td>27811</td>\n",
       "    </tr>\n",
       "    <tr>\n",
       "      <th>5</th>\n",
       "      <td>plotid_105</td>\n",
       "      <td>27811</td>\n",
       "    </tr>\n",
       "    <tr>\n",
       "      <th>6</th>\n",
       "      <td>plotid_105</td>\n",
       "      <td>27811</td>\n",
       "    </tr>\n",
       "    <tr>\n",
       "      <th>7</th>\n",
       "      <td>plotid_105</td>\n",
       "      <td>27811</td>\n",
       "    </tr>\n",
       "    <tr>\n",
       "      <th>8</th>\n",
       "      <td>plotid_105</td>\n",
       "      <td>27811</td>\n",
       "    </tr>\n",
       "    <tr>\n",
       "      <th>9</th>\n",
       "      <td>plotid_105</td>\n",
       "      <td>27811</td>\n",
       "    </tr>\n",
       "  </tbody>\n",
       "</table>\n",
       "</div>"
      ],
      "text/plain": [
       "      plot_id  cotton_px\n",
       "0  plotid_102       2979\n",
       "1  plotid_103       9203\n",
       "2  plotid_105      27811\n",
       "3  plotid_105      27811\n",
       "4  plotid_105      27811\n",
       "5  plotid_105      27811\n",
       "6  plotid_105      27811\n",
       "7  plotid_105      27811\n",
       "8  plotid_105      27811\n",
       "9  plotid_105      27811"
      ]
     },
     "execution_count": 2,
     "metadata": {},
     "output_type": "execute_result"
    }
   ],
   "source": [
    "data_df = pd.read_csv('data.csv')\n",
    "data_df"
   ]
  },
  {
   "cell_type": "code",
   "execution_count": 3,
   "metadata": {},
   "outputs": [
    {
     "data": {
      "text/plain": [
       "'<pre>      plot_id  cotton_px\\n0  plotid_102       2979\\n1  plotid_103       9203\\n2  plotid_105      27811\\n3  plotid_105      27811\\n4  plotid_105      27811\\n5  plotid_105      27811\\n6  plotid_105      27811\\n7  plotid_105      27811\\n8  plotid_105      27811\\n9  plotid_105      27811</pre>'"
      ]
     },
     "execution_count": 3,
     "metadata": {},
     "output_type": "execute_result"
    }
   ],
   "source": [
    "\"<pre>\"+ data_df.to_string()+ \"</pre>\""
   ]
  },
  {
   "cell_type": "code",
   "execution_count": 95,
   "metadata": {},
   "outputs": [
    {
     "data": {
      "image/png": "[encoded data removed]",
      "text/plain": [
       "<Figure size 432x288 with 1 Axes>"
      ]
     },
     "metadata": {
      "needs_background": "light"
     },
     "output_type": "display_data"
    }
   ],
   "source": [
    "from io import BytesIO\n",
    "import base64\n",
    "\n",
    "ax = sns.barplot(x = \"plot_id\", y = \"cotton_px\", data = data_df, color='green')\n",
    "ax.set(xlabel=\"Plots\", ylabel = \"Cotton pixels\")\n",
    "fig=plt.gcf()\n",
    "\n",
    "im_buf_arr = BytesIO()\n",
    "fig.savefig(im_buf_arr,format='png')\n",
    "im_buf_arr.seek(0)\n",
    "b64data = base64.b64encode(im_buf_arr.read()).decode('utf8');"
   ]
  },
  {
   "cell_type": "code",
   "execution_count": 94,
   "metadata": {},
   "outputs": [
    {
     "ename": "AttributeError",
     "evalue": "'str' object has no attribute 'datatype'",
     "output_type": "error",
     "traceback": [
      "\u001b[1;31m---------------------------------------------------------------------------\u001b[0m",
      "\u001b[1;31mAttributeError\u001b[0m                            Traceback (most recent call last)",
      "\u001b[1;32m<ipython-input-94-9f27542f3c14>\u001b[0m in \u001b[0;36m<module>\u001b[1;34m\u001b[0m\n\u001b[1;32m----> 1\u001b[1;33m \u001b[0mb64data\u001b[0m\u001b[1;33m.\u001b[0m\u001b[0mdatatype\u001b[0m\u001b[1;33m\u001b[0m\u001b[1;33m\u001b[0m\u001b[0m\n\u001b[0m",
      "\u001b[1;31mAttributeError\u001b[0m: 'str' object has no attribute 'datatype'"
     ]
    }
   ],
   "source": []
  },
  {
   "cell_type": "code",
   "execution_count": 86,
   "metadata": {},
   "outputs": [],
   "source": [
    "fig.savefig('im_buf_arr.png')"
   ]
  },
  {
   "cell_type": "code",
   "execution_count": 71,
   "metadata": {},
   "outputs": [
    {
     "ename": "NameError",
     "evalue": "name 'imshow' is not defined",
     "output_type": "error",
     "traceback": [
      "\u001b[1;31m---------------------------------------------------------------------------\u001b[0m",
      "\u001b[1;31mNameError\u001b[0m                                 Traceback (most recent call last)",
      "\u001b[1;32m<ipython-input-71-1886f4e0dd53>\u001b[0m in \u001b[0;36m<module>\u001b[1;34m\u001b[0m\n\u001b[1;32m----> 1\u001b[1;33m \u001b[0mimshow\u001b[0m\u001b[1;33m(\u001b[0m\u001b[1;34m'im_buf_arr.png'\u001b[0m\u001b[1;33m)\u001b[0m\u001b[1;33m\u001b[0m\u001b[1;33m\u001b[0m\u001b[0m\n\u001b[0m",
      "\u001b[1;31mNameError\u001b[0m: name 'imshow' is not defined"
     ]
    }
   ],
   "source": []
  },
  {
   "cell_type": "code",
   "execution_count": 48,
   "metadata": {},
   "outputs": [
    {
     "ename": "AttributeError",
     "evalue": "'NoneType' object has no attribute 'read'",
     "output_type": "error",
     "traceback": [
      "\u001b[1;31m---------------------------------------------------------------------------\u001b[0m",
      "\u001b[1;31mAttributeError\u001b[0m                            Traceback (most recent call last)",
      "\u001b[1;32m<ipython-input-48-9a6abe6daf48>\u001b[0m in \u001b[0;36m<module>\u001b[1;34m\u001b[0m\n\u001b[1;32m----> 1\u001b[1;33m \u001b[0mb64data\u001b[0m \u001b[1;33m=\u001b[0m \u001b[0mbase64\u001b[0m\u001b[1;33m.\u001b[0m\u001b[0mb64encode\u001b[0m\u001b[1;33m(\u001b[0m\u001b[1;33m(\u001b[0m\u001b[0mplt\u001b[0m\u001b[1;33m.\u001b[0m\u001b[0mgcf\u001b[0m\u001b[1;33m(\u001b[0m\u001b[1;33m)\u001b[0m\u001b[1;33m.\u001b[0m\u001b[0msavefig\u001b[0m\u001b[1;33m(\u001b[0m\u001b[0mim_buf_arr\u001b[0m\u001b[1;33m,\u001b[0m\u001b[0mformat\u001b[0m\u001b[1;33m=\u001b[0m\u001b[1;34m'png'\u001b[0m\u001b[1;33m)\u001b[0m\u001b[1;33m)\u001b[0m\u001b[1;33m.\u001b[0m\u001b[0mread\u001b[0m\u001b[1;33m(\u001b[0m\u001b[1;33m)\u001b[0m\u001b[1;33m)\u001b[0m\u001b[1;33m.\u001b[0m\u001b[0mdecode\u001b[0m\u001b[1;33m(\u001b[0m\u001b[1;34m'utf8'\u001b[0m\u001b[1;33m)\u001b[0m\u001b[1;33m;\u001b[0m\u001b[1;33m\u001b[0m\u001b[1;33m\u001b[0m\u001b[0m\n\u001b[0m\u001b[0;32m      2\u001b[0m \u001b[0mb64data\u001b[0m\u001b[1;33m\u001b[0m\u001b[1;33m\u001b[0m\u001b[0m\n",
      "\u001b[1;31mAttributeError\u001b[0m: 'NoneType' object has no attribute 'read'"
     ]
    },
    {
     "data": {
      "text/plain": [
       "<Figure size 432x288 with 0 Axes>"
      ]
     },
     "metadata": {},
     "output_type": "display_data"
    }
   ],
   "source": [
    "b64data = base64.b64encode((plt.gcf().savefig(im_buf_arr,format='png')).read()).decode('utf8');\n",
    "b64data"
   ]
  },
  {
   "cell_type": "code",
   "execution_count": 25,
   "metadata": {},
   "outputs": [
    {
     "ename": "AttributeError",
     "evalue": "'NoneType' object has no attribute 'app'",
     "output_type": "error",
     "traceback": [
      "\u001b[1;31m---------------------------------------------------------------------------\u001b[0m",
      "\u001b[1;31mAttributeError\u001b[0m                            Traceback (most recent call last)",
      "\u001b[1;32m<ipython-input-25-4ee7fb9b2745>\u001b[0m in \u001b[0;36m<module>\u001b[1;34m\u001b[0m\n\u001b[0;32m      6\u001b[0m \u001b[0mim_buf_arr\u001b[0m\u001b[1;33m.\u001b[0m\u001b[0mseek\u001b[0m\u001b[1;33m(\u001b[0m\u001b[1;36m0\u001b[0m\u001b[1;33m)\u001b[0m\u001b[1;33m\u001b[0m\u001b[1;33m\u001b[0m\u001b[0m\n\u001b[0;32m      7\u001b[0m \u001b[0mb64data\u001b[0m \u001b[1;33m=\u001b[0m \u001b[0mbase64\u001b[0m\u001b[1;33m.\u001b[0m\u001b[0mb64encode\u001b[0m\u001b[1;33m(\u001b[0m\u001b[0mim_buf_arr\u001b[0m\u001b[1;33m.\u001b[0m\u001b[0mread\u001b[0m\u001b[1;33m(\u001b[0m\u001b[1;33m)\u001b[0m\u001b[1;33m)\u001b[0m\u001b[1;33m.\u001b[0m\u001b[0mdecode\u001b[0m\u001b[1;33m(\u001b[0m\u001b[1;34m'utf8'\u001b[0m\u001b[1;33m)\u001b[0m\u001b[1;33m;\u001b[0m\u001b[1;33m\u001b[0m\u001b[1;33m\u001b[0m\u001b[0m\n\u001b[1;32m----> 8\u001b[1;33m \u001b[0mrender_template\u001b[0m\u001b[1;33m(\u001b[0m\u001b[1;34m'templates/img.html'\u001b[0m\u001b[1;33m,\u001b[0m\u001b[0mimg_data\u001b[0m\u001b[1;33m=\u001b[0m\u001b[0mb64data\u001b[0m\u001b[1;33m)\u001b[0m\u001b[1;33m\u001b[0m\u001b[1;33m\u001b[0m\u001b[0m\n\u001b[0m",
      "\u001b[1;32mC:\\ProgramData\\Anaconda3\\lib\\site-packages\\flask\\templating.py\u001b[0m in \u001b[0;36mrender_template\u001b[1;34m(template_name_or_list, **context)\u001b[0m\n\u001b[0;32m    134\u001b[0m     \"\"\"\n\u001b[0;32m    135\u001b[0m     \u001b[0mctx\u001b[0m \u001b[1;33m=\u001b[0m \u001b[0m_app_ctx_stack\u001b[0m\u001b[1;33m.\u001b[0m\u001b[0mtop\u001b[0m\u001b[1;33m\u001b[0m\u001b[1;33m\u001b[0m\u001b[0m\n\u001b[1;32m--> 136\u001b[1;33m     \u001b[0mctx\u001b[0m\u001b[1;33m.\u001b[0m\u001b[0mapp\u001b[0m\u001b[1;33m.\u001b[0m\u001b[0mupdate_template_context\u001b[0m\u001b[1;33m(\u001b[0m\u001b[0mcontext\u001b[0m\u001b[1;33m)\u001b[0m\u001b[1;33m\u001b[0m\u001b[1;33m\u001b[0m\u001b[0m\n\u001b[0m\u001b[0;32m    137\u001b[0m     return _render(\n\u001b[0;32m    138\u001b[0m         \u001b[0mctx\u001b[0m\u001b[1;33m.\u001b[0m\u001b[0mapp\u001b[0m\u001b[1;33m.\u001b[0m\u001b[0mjinja_env\u001b[0m\u001b[1;33m.\u001b[0m\u001b[0mget_or_select_template\u001b[0m\u001b[1;33m(\u001b[0m\u001b[0mtemplate_name_or_list\u001b[0m\u001b[1;33m)\u001b[0m\u001b[1;33m,\u001b[0m\u001b[1;33m\u001b[0m\u001b[1;33m\u001b[0m\u001b[0m\n",
      "\u001b[1;31mAttributeError\u001b[0m: 'NoneType' object has no attribute 'app'"
     ]
    },
    {
     "data": {
      "text/plain": [
       "<Figure size 432x288 with 0 Axes>"
      ]
     },
     "metadata": {},
     "output_type": "display_data"
    }
   ],
   "source": [
    "from flask import render_template\n",
    "from io import BytesIO\n",
    "import base64\n",
    "im_buf_arr = BytesIO()\n",
    "plt.gcf().savefig(im_buf_arr,format='png')\n",
    "im_buf_arr.seek(0)\n",
    "b64data = base64.b64encode(im_buf_arr.read()).decode('utf8');\n",
    "render_template('templates/img.html',img_data=b64data) \n"
   ]
  },
  {
   "cell_type": "code",
   "execution_count": 3,
   "metadata": {},
   "outputs": [],
   "source": [
    "def greenExtract(img):\n",
    "    # Convert BGR to RGB\n",
    "    RGB = cv.cvtColor(img, cv.COLOR_BGR2RGB)\n",
    "    #color space splitting\n",
    "    R = img[:,:,0]\n",
    "    G = img[:,:,1]\n",
    "    B = img[:,:,2]\n",
    "    #R,G,B = cv.split(RGB)\n",
    "\n",
    "    Rnorm = cv.normalize(R, None, 0, 1, cv.NORM_MINMAX, cv.CV_32FC1)\n",
    "    Gnorm = cv.normalize(G, None, 0, 1, cv.NORM_MINMAX, cv.CV_32FC1)\n",
    "    Bnorm = cv.normalize(B, None, 0, 1, cv.NORM_MINMAX, cv.CV_32FC1)\n",
    "\n",
    "    #original green extraction\n",
    "    #ExR = 1.4*Rnorm - Gnorm;\n",
    "    #ExG = 1.5*Gnorm - Rnorm - Bnorm;\n",
    "\n",
    "    #cotton pixels pre-segmentation\n",
    "    #optimum cotton pixels preprocessing\n",
    "    ExR = 2.0*Rnorm - Gnorm;\n",
    "    ExG = 1.5*Gnorm - Rnorm - Bnorm;\n",
    "    \n",
    "    ExR = cv.normalize(ExR, None, 0, 255, cv.NORM_MINMAX, cv.CV_8U)\n",
    "    thR, ExR = cv.threshold(ExR, 0, 255, cv.THRESH_OTSU);\n",
    "    ExR = ExR.astype(np.int16)\n",
    "\n",
    "    ExG = cv.normalize(ExG, None, 0, 255, cv.NORM_MINMAX, cv.CV_8U)\n",
    "    thG, ExG = cv.threshold(ExG, 0, 255, cv.THRESH_OTSU);\n",
    "    ExG = ExG.astype(np.int16)\n",
    "    \n",
    "    img_noGreen = cv.normalize(cv.normalize(np.subtract(ExG,ExR) * -1, \n",
    "                            None, 0, 1, cv.NORM_MINMAX) * 255, None, 0,\n",
    "                            255, cv.NORM_MINMAX,cv.CV_8U)\n",
    "    rgb_cotton = cv.bitwise_and(RGB,RGB,mask = img_noGreen)\n",
    "    bgr_cotton = cv.cvtColor(rgb_cotton, cv.COLOR_RGB2BGR)\n",
    "\n",
    "    #green pixels segmentation based on Excess Green index\n",
    "    #optimum green pixels extraction\n",
    "    ExR_opt = 1.0*Rnorm - 0.8*Gnorm;\n",
    "    ExG_opt = 1.5*Gnorm - Rnorm - Bnorm;\n",
    "    ExR_opt = cv.normalize(ExR_opt, None, 0, 255, cv.NORM_MINMAX, cv.CV_8U)\n",
    "    thR_opt, ExR_opt = cv.threshold(ExR_opt, 0, 255, cv.THRESH_OTSU);\n",
    "    ExR_opt = ExR_opt.astype(np.int16)\n",
    "\n",
    "    ExG_opt = cv.normalize(ExG, None, 0, 255, cv.NORM_MINMAX, cv.CV_8U)\n",
    "    thG_opt, ExG_opt = cv.threshold(ExG_opt, 0, 255, cv.THRESH_OTSU);\n",
    "    ExG_opt = ExG_opt.astype(np.int16)\n",
    "\n",
    "    img_green = cv.normalize(cv.normalize(np.subtract(ExG_opt,ExR_opt), \n",
    "                            None, 0, 1, cv.NORM_MINMAX) * 255, None, 0,\n",
    "                            255, cv.NORM_MINMAX,cv.CV_8U)\n",
    "\n",
    "    rgb_leaves = cv.bitwise_and(RGB,RGB,mask = img_green)\n",
    "\n",
    "    return bgr_cotton, rgb_leaves"
   ]
  },
  {
   "cell_type": "code",
   "execution_count": null,
   "metadata": {},
   "outputs": [],
   "source": []
  },
  {
   "cell_type": "code",
   "execution_count": 4,
   "metadata": {},
   "outputs": [],
   "source": [
    "def colorSpaces(img):\n",
    "# This function performs the color space conversion\n",
    "# input: BGR image\n",
    "# output: HSV and Lab color space images\n",
    "    # Convert BGR to HSV\n",
    "    HSV = cv.cvtColor(img, cv.COLOR_BGR2HSV)\n",
    "    #display(Image.fromarray(HSV))\n",
    "    #H,S,V = cv.split(HSV)\n",
    "    # Convert BGR to CIELab\n",
    "    Lab=cv.cvtColor(img,cv.COLOR_BGR2LAB)\n",
    "    #display(Image.fromarray(Lab))\n",
    "    #L,a,b = cv.split(Lab)\n",
    "    \n",
    "    return (HSV,Lab)"
   ]
  },
  {
   "cell_type": "code",
   "execution_count": 119,
   "metadata": {},
   "outputs": [],
   "source": [
    "def createValidationDF(HSV,Lab):\n",
    "# This function creates the dataset for model validation:\n",
    "# inputs: HSV and Lab color space images\n",
    "# output: daframe for validation, incluing H, S, V, a, b color channel components\n",
    "    #Create HSV subset\n",
    "    index = pd.MultiIndex.from_product(\n",
    "        (*map(range, HSV.shape[:2]), ('H', 'S', 'V')),\n",
    "        names=('row', 'col', None))\n",
    "    # HSV color channels extraction\n",
    "    df2 = pd.Series(HSV.flatten(), index=index)\n",
    "    df2 = df2.unstack()\n",
    "    df2 = df2.reset_index().reindex(columns=['row', 'col', 'H', 'S', 'V'])\n",
    "    \n",
    "    #Create CIE Lab subset\n",
    "    index = pd.MultiIndex.from_product(\n",
    "        (*map(range, Lab.shape[:2]), ('L', 'a', 'b')),\n",
    "        names=('row', 'col', None))\n",
    "    # Lab color channels extraction\n",
    "    df3 = pd.Series(Lab.flatten(), index=index)\n",
    "    df3 = df3.unstack()\n",
    "    df3 = df3.reset_index().reindex(columns=['row', 'col', 'L', 'a', 'b'])\n",
    "\n",
    "    # Merge HSV and Lab subsets using pixel location (row, col)\n",
    "    df = pd.merge(df2, df3, on=['row', 'col'])\n",
    "    \n",
    "    #reduce number of points by deleting not presegmented cotton pixels\n",
    "    df_temp = df.copy()\n",
    "    #create pre-segmented cotton pixels datframe\n",
    "    df_cotton = df_temp[(df_temp['H'] > 0)&(df_temp['S'] > 0)&(df_temp['V'] >= 0)] \n",
    "\n",
    "    return df, df_cotton   "
   ]
  },
  {
   "cell_type": "code",
   "execution_count": 221,
   "metadata": {},
   "outputs": [],
   "source": [
    "clf = joblib.load('./SVM_model_HSVab.pkl')\n",
    "            \n",
    "# Read image\n",
    "img = cv.imread('uploads/plotid_909.png')\n",
    "                \n",
    "# Create dataframe\n",
    "#green pixels preprocecssing extraction\n",
    "image_cotton, image_leaves = greenExtract(img)\n",
    "                    \n",
    "# Save green pixels mask (leaves)\n",
    "Image.fromarray(image_leaves)\n",
    "            \n",
    "#color spaces creation\n",
    "HSV,Lab = colorSpaces(image_cotton)\n",
    "#create dataframe for validation\n",
    "full_data, cotton_data = createValidationDF(HSV,Lab)\n",
    " \n",
    "# Results verification\n",
    "# Drop pixel position columns (row, and col), and L column\n",
    "X = cotton_data.drop(['row','col','L'], axis = 1)"
   ]
  },
  {
   "cell_type": "code",
   "execution_count": 222,
   "metadata": {},
   "outputs": [],
   "source": [
    "# Apply SVM model for pixels classification    \n",
    "y_pred = clf.predict(X)"
   ]
  },
  {
   "cell_type": "code",
   "execution_count": 223,
   "metadata": {},
   "outputs": [
    {
     "data": {
      "text/html": [
       "<div>\n",
       "<style scoped>\n",
       "    .dataframe tbody tr th:only-of-type {\n",
       "        vertical-align: middle;\n",
       "    }\n",
       "\n",
       "    .dataframe tbody tr th {\n",
       "        vertical-align: top;\n",
       "    }\n",
       "\n",
       "    .dataframe thead th {\n",
       "        text-align: right;\n",
       "    }\n",
       "</style>\n",
       "<table border=\"1\" class=\"dataframe\">\n",
       "  <thead>\n",
       "    <tr style=\"text-align: right;\">\n",
       "      <th></th>\n",
       "      <th>row</th>\n",
       "      <th>col</th>\n",
       "      <th>H</th>\n",
       "      <th>S</th>\n",
       "      <th>V</th>\n",
       "      <th>L</th>\n",
       "      <th>a</th>\n",
       "      <th>b</th>\n",
       "    </tr>\n",
       "  </thead>\n",
       "  <tbody>\n",
       "    <tr>\n",
       "      <th>0</th>\n",
       "      <td>0</td>\n",
       "      <td>0</td>\n",
       "      <td>6</td>\n",
       "      <td>72</td>\n",
       "      <td>74</td>\n",
       "      <td>65</td>\n",
       "      <td>135</td>\n",
       "      <td>133</td>\n",
       "    </tr>\n",
       "    <tr>\n",
       "      <th>1</th>\n",
       "      <td>0</td>\n",
       "      <td>1</td>\n",
       "      <td>8</td>\n",
       "      <td>60</td>\n",
       "      <td>76</td>\n",
       "      <td>71</td>\n",
       "      <td>132</td>\n",
       "      <td>133</td>\n",
       "    </tr>\n",
       "    <tr>\n",
       "      <th>2</th>\n",
       "      <td>0</td>\n",
       "      <td>2</td>\n",
       "      <td>7</td>\n",
       "      <td>72</td>\n",
       "      <td>78</td>\n",
       "      <td>70</td>\n",
       "      <td>134</td>\n",
       "      <td>134</td>\n",
       "    </tr>\n",
       "    <tr>\n",
       "      <th>3</th>\n",
       "      <td>0</td>\n",
       "      <td>3</td>\n",
       "      <td>8</td>\n",
       "      <td>64</td>\n",
       "      <td>76</td>\n",
       "      <td>70</td>\n",
       "      <td>133</td>\n",
       "      <td>133</td>\n",
       "    </tr>\n",
       "    <tr>\n",
       "      <th>4</th>\n",
       "      <td>0</td>\n",
       "      <td>4</td>\n",
       "      <td>11</td>\n",
       "      <td>67</td>\n",
       "      <td>80</td>\n",
       "      <td>76</td>\n",
       "      <td>132</td>\n",
       "      <td>135</td>\n",
       "    </tr>\n",
       "    <tr>\n",
       "      <th>...</th>\n",
       "      <td>...</td>\n",
       "      <td>...</td>\n",
       "      <td>...</td>\n",
       "      <td>...</td>\n",
       "      <td>...</td>\n",
       "      <td>...</td>\n",
       "      <td>...</td>\n",
       "      <td>...</td>\n",
       "    </tr>\n",
       "    <tr>\n",
       "      <th>508741</th>\n",
       "      <td>313</td>\n",
       "      <td>116</td>\n",
       "      <td>15</td>\n",
       "      <td>27</td>\n",
       "      <td>76</td>\n",
       "      <td>79</td>\n",
       "      <td>129</td>\n",
       "      <td>131</td>\n",
       "    </tr>\n",
       "    <tr>\n",
       "      <th>508742</th>\n",
       "      <td>313</td>\n",
       "      <td>117</td>\n",
       "      <td>12</td>\n",
       "      <td>44</td>\n",
       "      <td>75</td>\n",
       "      <td>74</td>\n",
       "      <td>130</td>\n",
       "      <td>132</td>\n",
       "    </tr>\n",
       "    <tr>\n",
       "      <th>508743</th>\n",
       "      <td>313</td>\n",
       "      <td>118</td>\n",
       "      <td>23</td>\n",
       "      <td>31</td>\n",
       "      <td>66</td>\n",
       "      <td>69</td>\n",
       "      <td>127</td>\n",
       "      <td>132</td>\n",
       "    </tr>\n",
       "    <tr>\n",
       "      <th>508744</th>\n",
       "      <td>313</td>\n",
       "      <td>119</td>\n",
       "      <td>10</td>\n",
       "      <td>32</td>\n",
       "      <td>72</td>\n",
       "      <td>73</td>\n",
       "      <td>130</td>\n",
       "      <td>131</td>\n",
       "    </tr>\n",
       "    <tr>\n",
       "      <th>508745</th>\n",
       "      <td>313</td>\n",
       "      <td>120</td>\n",
       "      <td>9</td>\n",
       "      <td>46</td>\n",
       "      <td>72</td>\n",
       "      <td>70</td>\n",
       "      <td>131</td>\n",
       "      <td>132</td>\n",
       "    </tr>\n",
       "  </tbody>\n",
       "</table>\n",
       "<p>229009 rows × 8 columns</p>\n",
       "</div>"
      ],
      "text/plain": [
       "        row  col   H   S   V   L    a    b\n",
       "0         0    0   6  72  74  65  135  133\n",
       "1         0    1   8  60  76  71  132  133\n",
       "2         0    2   7  72  78  70  134  134\n",
       "3         0    3   8  64  76  70  133  133\n",
       "4         0    4  11  67  80  76  132  135\n",
       "...     ...  ...  ..  ..  ..  ..  ...  ...\n",
       "508741  313  116  15  27  76  79  129  131\n",
       "508742  313  117  12  44  75  74  130  132\n",
       "508743  313  118  23  31  66  69  127  132\n",
       "508744  313  119  10  32  72  73  130  131\n",
       "508745  313  120   9  46  72  70  131  132\n",
       "\n",
       "[229009 rows x 8 columns]"
      ]
     },
     "execution_count": 223,
     "metadata": {},
     "output_type": "execute_result"
    }
   ],
   "source": [
    "cotton_data"
   ]
  },
  {
   "cell_type": "code",
   "execution_count": 224,
   "metadata": {},
   "outputs": [
    {
     "data": {
      "text/plain": [
       "array(['no', 'no', 'no', ..., 'no', 'no', 'no'], dtype=object)"
      ]
     },
     "execution_count": 224,
     "metadata": {},
     "output_type": "execute_result"
    }
   ],
   "source": [
    "y_pred"
   ]
  },
  {
   "cell_type": "code",
   "execution_count": 225,
   "metadata": {},
   "outputs": [
    {
     "data": {
      "text/html": [
       "<div>\n",
       "<style scoped>\n",
       "    .dataframe tbody tr th:only-of-type {\n",
       "        vertical-align: middle;\n",
       "    }\n",
       "\n",
       "    .dataframe tbody tr th {\n",
       "        vertical-align: top;\n",
       "    }\n",
       "\n",
       "    .dataframe thead th {\n",
       "        text-align: right;\n",
       "    }\n",
       "</style>\n",
       "<table border=\"1\" class=\"dataframe\">\n",
       "  <thead>\n",
       "    <tr style=\"text-align: right;\">\n",
       "      <th></th>\n",
       "      <th>cotton</th>\n",
       "    </tr>\n",
       "  </thead>\n",
       "  <tbody>\n",
       "    <tr>\n",
       "      <th>0</th>\n",
       "      <td>0</td>\n",
       "    </tr>\n",
       "    <tr>\n",
       "      <th>1</th>\n",
       "      <td>0</td>\n",
       "    </tr>\n",
       "    <tr>\n",
       "      <th>2</th>\n",
       "      <td>0</td>\n",
       "    </tr>\n",
       "    <tr>\n",
       "      <th>3</th>\n",
       "      <td>0</td>\n",
       "    </tr>\n",
       "    <tr>\n",
       "      <th>4</th>\n",
       "      <td>0</td>\n",
       "    </tr>\n",
       "    <tr>\n",
       "      <th>...</th>\n",
       "      <td>...</td>\n",
       "    </tr>\n",
       "    <tr>\n",
       "      <th>508741</th>\n",
       "      <td>0</td>\n",
       "    </tr>\n",
       "    <tr>\n",
       "      <th>508742</th>\n",
       "      <td>0</td>\n",
       "    </tr>\n",
       "    <tr>\n",
       "      <th>508743</th>\n",
       "      <td>0</td>\n",
       "    </tr>\n",
       "    <tr>\n",
       "      <th>508744</th>\n",
       "      <td>0</td>\n",
       "    </tr>\n",
       "    <tr>\n",
       "      <th>508745</th>\n",
       "      <td>0</td>\n",
       "    </tr>\n",
       "  </tbody>\n",
       "</table>\n",
       "<p>229009 rows × 1 columns</p>\n",
       "</div>"
      ],
      "text/plain": [
       "        cotton\n",
       "0            0\n",
       "1            0\n",
       "2            0\n",
       "3            0\n",
       "4            0\n",
       "...        ...\n",
       "508741       0\n",
       "508742       0\n",
       "508743       0\n",
       "508744       0\n",
       "508745       0\n",
       "\n",
       "[229009 rows x 1 columns]"
      ]
     },
     "execution_count": 225,
     "metadata": {},
     "output_type": "execute_result"
    }
   ],
   "source": [
    "# Create prediction mask\n",
    "cotton_df = cotton_data.copy()\n",
    "#recover pixel indices\n",
    "cotton_df.insert(0,'cotton', y_pred, True)\n",
    "cotton_df = pd.DataFrame(cotton_df.iloc[:,0])\n",
    "cotton_df[cotton_df['cotton']=='no'] = 0\n",
    "cotton_df[cotton_df['cotton']=='yes'] = 255\n",
    "#pred_mask.insert(1, 'col', cotton_data.reset_index()['col'], True)\n",
    "cotton_df"
   ]
  },
  {
   "cell_type": "code",
   "execution_count": 226,
   "metadata": {},
   "outputs": [
    {
     "data": {
      "text/html": [
       "<div>\n",
       "<style scoped>\n",
       "    .dataframe tbody tr th:only-of-type {\n",
       "        vertical-align: middle;\n",
       "    }\n",
       "\n",
       "    .dataframe tbody tr th {\n",
       "        vertical-align: top;\n",
       "    }\n",
       "\n",
       "    .dataframe thead th {\n",
       "        text-align: right;\n",
       "    }\n",
       "</style>\n",
       "<table border=\"1\" class=\"dataframe\">\n",
       "  <thead>\n",
       "    <tr style=\"text-align: right;\">\n",
       "      <th></th>\n",
       "      <th>cotton</th>\n",
       "    </tr>\n",
       "  </thead>\n",
       "  <tbody>\n",
       "    <tr>\n",
       "      <th>0</th>\n",
       "      <td>0.0</td>\n",
       "    </tr>\n",
       "    <tr>\n",
       "      <th>1</th>\n",
       "      <td>0.0</td>\n",
       "    </tr>\n",
       "    <tr>\n",
       "      <th>2</th>\n",
       "      <td>0.0</td>\n",
       "    </tr>\n",
       "    <tr>\n",
       "      <th>3</th>\n",
       "      <td>0.0</td>\n",
       "    </tr>\n",
       "    <tr>\n",
       "      <th>4</th>\n",
       "      <td>0.0</td>\n",
       "    </tr>\n",
       "    <tr>\n",
       "      <th>...</th>\n",
       "      <td>...</td>\n",
       "    </tr>\n",
       "    <tr>\n",
       "      <th>510245</th>\n",
       "      <td>0.0</td>\n",
       "    </tr>\n",
       "    <tr>\n",
       "      <th>510246</th>\n",
       "      <td>0.0</td>\n",
       "    </tr>\n",
       "    <tr>\n",
       "      <th>510247</th>\n",
       "      <td>0.0</td>\n",
       "    </tr>\n",
       "    <tr>\n",
       "      <th>510248</th>\n",
       "      <td>0.0</td>\n",
       "    </tr>\n",
       "    <tr>\n",
       "      <th>510249</th>\n",
       "      <td>0.0</td>\n",
       "    </tr>\n",
       "  </tbody>\n",
       "</table>\n",
       "<p>510250 rows × 1 columns</p>\n",
       "</div>"
      ],
      "text/plain": [
       "        cotton\n",
       "0          0.0\n",
       "1          0.0\n",
       "2          0.0\n",
       "3          0.0\n",
       "4          0.0\n",
       "...        ...\n",
       "510245     0.0\n",
       "510246     0.0\n",
       "510247     0.0\n",
       "510248     0.0\n",
       "510249     0.0\n",
       "\n",
       "[510250 rows x 1 columns]"
      ]
     },
     "execution_count": 226,
     "metadata": {},
     "output_type": "execute_result"
    }
   ],
   "source": [
    "#reconstruct image dataframe\n",
    "full_mask = full_data.copy()\n",
    "full_mask['cotton']=0\n",
    "full_mask = pd.DataFrame(full_mask.iloc[:,-1])\n",
    "full_mask.update(cotton_df)\n",
    "full_mask"
   ]
  },
  {
   "cell_type": "code",
   "execution_count": 227,
   "metadata": {},
   "outputs": [],
   "source": [
    "# Change the dtype to 'uint8'\n",
    "full_mask = (full_mask.astype('uint8')).to_numpy()"
   ]
  },
  {
   "cell_type": "code",
   "execution_count": 228,
   "metadata": {},
   "outputs": [
    {
     "data": {
      "text/plain": [
       "(594864, 1)"
      ]
     },
     "execution_count": 228,
     "metadata": {},
     "output_type": "execute_result"
    }
   ],
   "source": [
    "mask_.shape"
   ]
  },
  {
   "cell_type": "code",
   "execution_count": 229,
   "metadata": {},
   "outputs": [
    {
     "data": {
      "text/plain": [
       "(314, 1625, 3)"
      ]
     },
     "execution_count": 229,
     "metadata": {},
     "output_type": "execute_result"
    }
   ],
   "source": [
    "# Convert from array to image pixels\n",
    "h,w,c = image_cotton.shape\n",
    "h,w,c"
   ]
  },
  {
   "cell_type": "code",
   "execution_count": 230,
   "metadata": {},
   "outputs": [
    {
     "data": {
      "text/plain": [
       "(314, 1625)"
      ]
     },
     "execution_count": 230,
     "metadata": {},
     "output_type": "execute_result"
    }
   ],
   "source": [
    "mask_result = np.reshape(full_mask,(h,w))\n",
    "mask_result.shape"
   ]
  },
  {
   "cell_type": "code",
   "execution_count": 231,
   "metadata": {},
   "outputs": [
    {
     "data": {
      "image/png": "[encoded data removed]",
      "text/plain": [
       "<PIL.Image.Image image mode=L size=1625x314 at 0xAC80570848>"
      ]
     },
     "execution_count": 231,
     "metadata": {},
     "output_type": "execute_result"
    }
   ],
   "source": [
    "Image.fromarray(mask_result)"
   ]
  },
  {
   "cell_type": "code",
   "execution_count": null,
   "metadata": {},
   "outputs": [],
   "source": []
  }
 ],
 "metadata": {
  "kernelspec": {
   "display_name": "Python 3",
   "language": "python",
   "name": "python3"
  },
  "language_info": {
   "codemirror_mode": {
    "name": "ipython",
    "version": 3
   },
   "file_extension": ".py",
   "mimetype": "text/x-python",
   "name": "python",
   "nbconvert_exporter": "python",
   "pygments_lexer": "ipython3",
   "version": "3.7.6"
  }
 },
 "nbformat": 4,
 "nbformat_minor": 4
}
