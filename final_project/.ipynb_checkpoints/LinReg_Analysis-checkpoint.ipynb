{
 "cells": [
  {
   "cell_type": "markdown",
   "metadata": {},
   "source": [
    "# Linear Regression analysis"
   ]
  },
  {
   "cell_type": "markdown",
   "metadata": {},
   "source": [
    "Once every plot has been analyzed, and all the cotton pixels have been detected, we can try to find the relationship between pixels count and the real number of cotton bolls. We can use a linear regression model to analysis this relation and predict the cotton bolls quantity per plot from 2D images."
   ]
  },
  {
   "cell_type": "markdown",
   "metadata": {},
   "source": [
    "We start importing the needed modules and libraries."
   ]
  },
  {
   "cell_type": "code",
   "execution_count": 26,
   "metadata": {},
   "outputs": [],
   "source": [
    "from __future__ import print_function\n",
    "import numpy as np\n",
    "import matplotlib.pyplot as plt\n",
    "import seaborn as sns\n",
    "import pandas as pd\n",
    "import ipywidgets as widgets\n",
    "\n",
    "from sklearn.model_selection import train_test_split\n",
    "from sklearn.linear_model import LinearRegression\n",
    "from sklearn.metrics import mean_squared_error\n",
    "\n",
    "sns.set()\n",
    "\n",
    "from ipywidgets import interact, interactive, fixed, interact_manual"
   ]
  },
  {
   "cell_type": "markdown",
   "metadata": {},
   "source": [
    "Then, we first load the ground truth data and the prediction results. Both data are stored in individual csv files."
   ]
  },
  {
   "cell_type": "code",
   "execution_count": 16,
   "metadata": {},
   "outputs": [
    {
     "data": {
      "text/plain": [
       "(26, 3)"
      ]
     },
     "metadata": {},
     "output_type": "display_data"
    },
    {
     "data": {
      "text/html": [
       "<div>\n",
       "<style scoped>\n",
       "    .dataframe tbody tr th:only-of-type {\n",
       "        vertical-align: middle;\n",
       "    }\n",
       "\n",
       "    .dataframe tbody tr th {\n",
       "        vertical-align: top;\n",
       "    }\n",
       "\n",
       "    .dataframe thead th {\n",
       "        text-align: right;\n",
       "    }\n",
       "</style>\n",
       "<table border=\"1\" class=\"dataframe\">\n",
       "  <thead>\n",
       "    <tr style=\"text-align: right;\">\n",
       "      <th></th>\n",
       "      <th>plot_id</th>\n",
       "      <th>Boll Number</th>\n",
       "      <th>Weight</th>\n",
       "    </tr>\n",
       "  </thead>\n",
       "  <tbody>\n",
       "    <tr>\n",
       "      <th>0</th>\n",
       "      <td>plotid_103</td>\n",
       "      <td>139</td>\n",
       "      <td>552.61</td>\n",
       "    </tr>\n",
       "    <tr>\n",
       "      <th>1</th>\n",
       "      <td>plotid_106</td>\n",
       "      <td>265</td>\n",
       "      <td>942.62</td>\n",
       "    </tr>\n",
       "    <tr>\n",
       "      <th>2</th>\n",
       "      <td>plotid_305</td>\n",
       "      <td>175</td>\n",
       "      <td>821.25</td>\n",
       "    </tr>\n",
       "    <tr>\n",
       "      <th>3</th>\n",
       "      <td>plotid_402</td>\n",
       "      <td>177</td>\n",
       "      <td>660.54</td>\n",
       "    </tr>\n",
       "    <tr>\n",
       "      <th>4</th>\n",
       "      <td>plotid_502</td>\n",
       "      <td>65</td>\n",
       "      <td>195.50</td>\n",
       "    </tr>\n",
       "  </tbody>\n",
       "</table>\n",
       "</div>"
      ],
      "text/plain": [
       "      plot_id  Boll Number  Weight\n",
       "0  plotid_103          139  552.61\n",
       "1  plotid_106          265  942.62\n",
       "2  plotid_305          175  821.25\n",
       "3  plotid_402          177  660.54\n",
       "4  plotid_502           65  195.50"
      ]
     },
     "execution_count": 16,
     "metadata": {},
     "output_type": "execute_result"
    }
   ],
   "source": [
    "gt_df =  pd.read_csv('ground_truth.csv')\n",
    "display(gt_df.shape)\n",
    "gt_df.head()"
   ]
  },
  {
   "cell_type": "code",
   "execution_count": 17,
   "metadata": {},
   "outputs": [
    {
     "data": {
      "text/plain": [
       "(487, 2)"
      ]
     },
     "metadata": {},
     "output_type": "display_data"
    },
    {
     "data": {
      "text/html": [
       "<div>\n",
       "<style scoped>\n",
       "    .dataframe tbody tr th:only-of-type {\n",
       "        vertical-align: middle;\n",
       "    }\n",
       "\n",
       "    .dataframe tbody tr th {\n",
       "        vertical-align: top;\n",
       "    }\n",
       "\n",
       "    .dataframe thead th {\n",
       "        text-align: right;\n",
       "    }\n",
       "</style>\n",
       "<table border=\"1\" class=\"dataframe\">\n",
       "  <thead>\n",
       "    <tr style=\"text-align: right;\">\n",
       "      <th></th>\n",
       "      <th>plot_id</th>\n",
       "      <th>cotton_px</th>\n",
       "    </tr>\n",
       "  </thead>\n",
       "  <tbody>\n",
       "    <tr>\n",
       "      <th>0</th>\n",
       "      <td>plotid_101</td>\n",
       "      <td>8059</td>\n",
       "    </tr>\n",
       "    <tr>\n",
       "      <th>1</th>\n",
       "      <td>plotid_102</td>\n",
       "      <td>2979</td>\n",
       "    </tr>\n",
       "    <tr>\n",
       "      <th>2</th>\n",
       "      <td>plotid_103</td>\n",
       "      <td>9203</td>\n",
       "    </tr>\n",
       "    <tr>\n",
       "      <th>3</th>\n",
       "      <td>plotid_104</td>\n",
       "      <td>7884</td>\n",
       "    </tr>\n",
       "    <tr>\n",
       "      <th>4</th>\n",
       "      <td>plotid_105</td>\n",
       "      <td>27811</td>\n",
       "    </tr>\n",
       "  </tbody>\n",
       "</table>\n",
       "</div>"
      ],
      "text/plain": [
       "      plot_id  cotton_px\n",
       "0  plotid_101       8059\n",
       "1  plotid_102       2979\n",
       "2  plotid_103       9203\n",
       "3  plotid_104       7884\n",
       "4  plotid_105      27811"
      ]
     },
     "metadata": {},
     "output_type": "display_data"
    },
    {
     "data": {
      "text/plain": [
       "(487, 2)"
      ]
     },
     "execution_count": 17,
     "metadata": {},
     "output_type": "execute_result"
    }
   ],
   "source": [
    "pred_df = pd.read_csv('results_cottonpx.csv')\n",
    "display(pred_df.shape)\n",
    "display(pred_df.head())\n",
    "pred_df.shape"
   ]
  },
  {
   "cell_type": "markdown",
   "metadata": {},
   "source": [
    "We just want to forecast the number of cotton bolls from the number of pixels predicted by the SVM. So, we first should match the prediction data with the corresponding ground truth. To do that, we can use the merge() method using the plot_id as unique key combination."
   ]
  },
  {
   "cell_type": "code",
   "execution_count": 18,
   "metadata": {},
   "outputs": [
    {
     "name": "stdout",
     "output_type": "stream",
     "text": [
      "(26, 4)\n"
     ]
    },
    {
     "data": {
      "text/html": [
       "<div>\n",
       "<style scoped>\n",
       "    .dataframe tbody tr th:only-of-type {\n",
       "        vertical-align: middle;\n",
       "    }\n",
       "\n",
       "    .dataframe tbody tr th {\n",
       "        vertical-align: top;\n",
       "    }\n",
       "\n",
       "    .dataframe thead th {\n",
       "        text-align: right;\n",
       "    }\n",
       "</style>\n",
       "<table border=\"1\" class=\"dataframe\">\n",
       "  <thead>\n",
       "    <tr style=\"text-align: right;\">\n",
       "      <th></th>\n",
       "      <th>plot_id</th>\n",
       "      <th>Boll Number</th>\n",
       "      <th>Weight</th>\n",
       "      <th>cotton_px</th>\n",
       "    </tr>\n",
       "  </thead>\n",
       "  <tbody>\n",
       "    <tr>\n",
       "      <th>0</th>\n",
       "      <td>plotid_103</td>\n",
       "      <td>139</td>\n",
       "      <td>552.61</td>\n",
       "      <td>9203</td>\n",
       "    </tr>\n",
       "    <tr>\n",
       "      <th>1</th>\n",
       "      <td>plotid_106</td>\n",
       "      <td>265</td>\n",
       "      <td>942.62</td>\n",
       "      <td>26495</td>\n",
       "    </tr>\n",
       "    <tr>\n",
       "      <th>2</th>\n",
       "      <td>plotid_305</td>\n",
       "      <td>175</td>\n",
       "      <td>821.25</td>\n",
       "      <td>15090</td>\n",
       "    </tr>\n",
       "    <tr>\n",
       "      <th>3</th>\n",
       "      <td>plotid_402</td>\n",
       "      <td>177</td>\n",
       "      <td>660.54</td>\n",
       "      <td>15602</td>\n",
       "    </tr>\n",
       "    <tr>\n",
       "      <th>4</th>\n",
       "      <td>plotid_502</td>\n",
       "      <td>65</td>\n",
       "      <td>195.50</td>\n",
       "      <td>5225</td>\n",
       "    </tr>\n",
       "    <tr>\n",
       "      <th>5</th>\n",
       "      <td>plotid_504</td>\n",
       "      <td>214</td>\n",
       "      <td>860.63</td>\n",
       "      <td>17607</td>\n",
       "    </tr>\n",
       "    <tr>\n",
       "      <th>6</th>\n",
       "      <td>plotid_701</td>\n",
       "      <td>315</td>\n",
       "      <td>1321.08</td>\n",
       "      <td>25655</td>\n",
       "    </tr>\n",
       "    <tr>\n",
       "      <th>7</th>\n",
       "      <td>plotid_706</td>\n",
       "      <td>297</td>\n",
       "      <td>1422.63</td>\n",
       "      <td>33121</td>\n",
       "    </tr>\n",
       "    <tr>\n",
       "      <th>8</th>\n",
       "      <td>plotid_801</td>\n",
       "      <td>313</td>\n",
       "      <td>1132.41</td>\n",
       "      <td>33350</td>\n",
       "    </tr>\n",
       "    <tr>\n",
       "      <th>9</th>\n",
       "      <td>plotid_902</td>\n",
       "      <td>189</td>\n",
       "      <td>658.29</td>\n",
       "      <td>19759</td>\n",
       "    </tr>\n",
       "    <tr>\n",
       "      <th>10</th>\n",
       "      <td>plotid_909</td>\n",
       "      <td>103</td>\n",
       "      <td>316.49</td>\n",
       "      <td>5497</td>\n",
       "    </tr>\n",
       "    <tr>\n",
       "      <th>11</th>\n",
       "      <td>plotid_1103</td>\n",
       "      <td>114</td>\n",
       "      <td>465.09</td>\n",
       "      <td>7438</td>\n",
       "    </tr>\n",
       "    <tr>\n",
       "      <th>12</th>\n",
       "      <td>plotid_1208</td>\n",
       "      <td>241</td>\n",
       "      <td>866.94</td>\n",
       "      <td>14724</td>\n",
       "    </tr>\n",
       "    <tr>\n",
       "      <th>13</th>\n",
       "      <td>plotid_1402</td>\n",
       "      <td>80</td>\n",
       "      <td>298.89</td>\n",
       "      <td>6773</td>\n",
       "    </tr>\n",
       "    <tr>\n",
       "      <th>14</th>\n",
       "      <td>plotid_1701</td>\n",
       "      <td>367</td>\n",
       "      <td>1481.24</td>\n",
       "      <td>31937</td>\n",
       "    </tr>\n",
       "    <tr>\n",
       "      <th>15</th>\n",
       "      <td>plotid_1301</td>\n",
       "      <td>91</td>\n",
       "      <td>NaN</td>\n",
       "      <td>5071</td>\n",
       "    </tr>\n",
       "    <tr>\n",
       "      <th>16</th>\n",
       "      <td>plotid_1307</td>\n",
       "      <td>289</td>\n",
       "      <td>NaN</td>\n",
       "      <td>28145</td>\n",
       "    </tr>\n",
       "    <tr>\n",
       "      <th>17</th>\n",
       "      <td>plotid_1505</td>\n",
       "      <td>61</td>\n",
       "      <td>NaN</td>\n",
       "      <td>4124</td>\n",
       "    </tr>\n",
       "    <tr>\n",
       "      <th>18</th>\n",
       "      <td>plotid_1509</td>\n",
       "      <td>153</td>\n",
       "      <td>NaN</td>\n",
       "      <td>9054</td>\n",
       "    </tr>\n",
       "    <tr>\n",
       "      <th>19</th>\n",
       "      <td>plotid_1603</td>\n",
       "      <td>102</td>\n",
       "      <td>NaN</td>\n",
       "      <td>3740</td>\n",
       "    </tr>\n",
       "    <tr>\n",
       "      <th>20</th>\n",
       "      <td>plotid_1610</td>\n",
       "      <td>138</td>\n",
       "      <td>NaN</td>\n",
       "      <td>15048</td>\n",
       "    </tr>\n",
       "    <tr>\n",
       "      <th>21</th>\n",
       "      <td>plotid_1802</td>\n",
       "      <td>133</td>\n",
       "      <td>NaN</td>\n",
       "      <td>6618</td>\n",
       "    </tr>\n",
       "    <tr>\n",
       "      <th>22</th>\n",
       "      <td>plotid_1808</td>\n",
       "      <td>133</td>\n",
       "      <td>NaN</td>\n",
       "      <td>14816</td>\n",
       "    </tr>\n",
       "    <tr>\n",
       "      <th>23</th>\n",
       "      <td>plotid_1902</td>\n",
       "      <td>208</td>\n",
       "      <td>NaN</td>\n",
       "      <td>19736</td>\n",
       "    </tr>\n",
       "    <tr>\n",
       "      <th>24</th>\n",
       "      <td>plotid_1906</td>\n",
       "      <td>255</td>\n",
       "      <td>NaN</td>\n",
       "      <td>23228</td>\n",
       "    </tr>\n",
       "    <tr>\n",
       "      <th>25</th>\n",
       "      <td>plotid_2204</td>\n",
       "      <td>246</td>\n",
       "      <td>NaN</td>\n",
       "      <td>21428</td>\n",
       "    </tr>\n",
       "  </tbody>\n",
       "</table>\n",
       "</div>"
      ],
      "text/plain": [
       "        plot_id  Boll Number   Weight  cotton_px\n",
       "0    plotid_103          139   552.61       9203\n",
       "1    plotid_106          265   942.62      26495\n",
       "2    plotid_305          175   821.25      15090\n",
       "3    plotid_402          177   660.54      15602\n",
       "4    plotid_502           65   195.50       5225\n",
       "5    plotid_504          214   860.63      17607\n",
       "6    plotid_701          315  1321.08      25655\n",
       "7    plotid_706          297  1422.63      33121\n",
       "8    plotid_801          313  1132.41      33350\n",
       "9    plotid_902          189   658.29      19759\n",
       "10   plotid_909          103   316.49       5497\n",
       "11  plotid_1103          114   465.09       7438\n",
       "12  plotid_1208          241   866.94      14724\n",
       "13  plotid_1402           80   298.89       6773\n",
       "14  plotid_1701          367  1481.24      31937\n",
       "15  plotid_1301           91      NaN       5071\n",
       "16  plotid_1307          289      NaN      28145\n",
       "17  plotid_1505           61      NaN       4124\n",
       "18  plotid_1509          153      NaN       9054\n",
       "19  plotid_1603          102      NaN       3740\n",
       "20  plotid_1610          138      NaN      15048\n",
       "21  plotid_1802          133      NaN       6618\n",
       "22  plotid_1808          133      NaN      14816\n",
       "23  plotid_1902          208      NaN      19736\n",
       "24  plotid_1906          255      NaN      23228\n",
       "25  plotid_2204          246      NaN      21428"
      ]
     },
     "execution_count": 18,
     "metadata": {},
     "output_type": "execute_result"
    }
   ],
   "source": [
    "data = pd.merge(gt_df, pred_df, on='plot_id')\n",
    "print(data.shape)\n",
    "data"
   ]
  },
  {
   "cell_type": "markdown",
   "metadata": {},
   "source": [
    "We can plot the predicted number of pixels versus the cotton boll number from the ground truth to see how they look."
   ]
  },
  {
   "cell_type": "code",
   "execution_count": 19,
   "metadata": {},
   "outputs": [
    {
     "data": {
      "image/png": "[encoded data removed]",
      "text/plain": [
       "<Figure size 432x288 with 1 Axes>"
      ]
     },
     "metadata": {},
     "output_type": "display_data"
    }
   ],
   "source": [
    "plt.scatter(data['cotton_px'],data[\"Boll Number\"], color='blue')\n",
    "plt.title(\"Pixels number versus Cotton boll number\")\n",
    "plt.xlabel(\"Pixels number (Prediction)\")\n",
    "plt.ylabel(\"Boll number (Ground truth)\")\n",
    "plt.show()"
   ]
  },
  {
   "cell_type": "markdown",
   "metadata": {},
   "source": [
    "Now, we can start the regression analysis by splitting the dataframe into X and y subsets:"
   ]
  },
  {
   "cell_type": "code",
   "execution_count": 20,
   "metadata": {},
   "outputs": [
    {
     "data": {
      "text/html": [
       "<div>\n",
       "<style scoped>\n",
       "    .dataframe tbody tr th:only-of-type {\n",
       "        vertical-align: middle;\n",
       "    }\n",
       "\n",
       "    .dataframe tbody tr th {\n",
       "        vertical-align: top;\n",
       "    }\n",
       "\n",
       "    .dataframe thead th {\n",
       "        text-align: right;\n",
       "    }\n",
       "</style>\n",
       "<table border=\"1\" class=\"dataframe\">\n",
       "  <thead>\n",
       "    <tr style=\"text-align: right;\">\n",
       "      <th></th>\n",
       "      <th>cotton_px</th>\n",
       "    </tr>\n",
       "  </thead>\n",
       "  <tbody>\n",
       "    <tr>\n",
       "      <th>0</th>\n",
       "      <td>9203</td>\n",
       "    </tr>\n",
       "    <tr>\n",
       "      <th>1</th>\n",
       "      <td>26495</td>\n",
       "    </tr>\n",
       "    <tr>\n",
       "      <th>2</th>\n",
       "      <td>15090</td>\n",
       "    </tr>\n",
       "    <tr>\n",
       "      <th>3</th>\n",
       "      <td>15602</td>\n",
       "    </tr>\n",
       "    <tr>\n",
       "      <th>4</th>\n",
       "      <td>5225</td>\n",
       "    </tr>\n",
       "  </tbody>\n",
       "</table>\n",
       "</div>"
      ],
      "text/plain": [
       "   cotton_px\n",
       "0       9203\n",
       "1      26495\n",
       "2      15090\n",
       "3      15602\n",
       "4       5225"
      ]
     },
     "metadata": {},
     "output_type": "display_data"
    },
    {
     "data": {
      "text/html": [
       "<div>\n",
       "<style scoped>\n",
       "    .dataframe tbody tr th:only-of-type {\n",
       "        vertical-align: middle;\n",
       "    }\n",
       "\n",
       "    .dataframe tbody tr th {\n",
       "        vertical-align: top;\n",
       "    }\n",
       "\n",
       "    .dataframe thead th {\n",
       "        text-align: right;\n",
       "    }\n",
       "</style>\n",
       "<table border=\"1\" class=\"dataframe\">\n",
       "  <thead>\n",
       "    <tr style=\"text-align: right;\">\n",
       "      <th></th>\n",
       "      <th>Boll Number</th>\n",
       "    </tr>\n",
       "  </thead>\n",
       "  <tbody>\n",
       "    <tr>\n",
       "      <th>0</th>\n",
       "      <td>139</td>\n",
       "    </tr>\n",
       "    <tr>\n",
       "      <th>1</th>\n",
       "      <td>265</td>\n",
       "    </tr>\n",
       "    <tr>\n",
       "      <th>2</th>\n",
       "      <td>175</td>\n",
       "    </tr>\n",
       "    <tr>\n",
       "      <th>3</th>\n",
       "      <td>177</td>\n",
       "    </tr>\n",
       "    <tr>\n",
       "      <th>4</th>\n",
       "      <td>65</td>\n",
       "    </tr>\n",
       "  </tbody>\n",
       "</table>\n",
       "</div>"
      ],
      "text/plain": [
       "   Boll Number\n",
       "0          139\n",
       "1          265\n",
       "2          175\n",
       "3          177\n",
       "4           65"
      ]
     },
     "metadata": {},
     "output_type": "display_data"
    }
   ],
   "source": [
    "# Separate feature cotton_px \n",
    "X = pd.DataFrame(data['cotton_px'])\n",
    "# View X to make sure the operations were successful\n",
    "display(X.head())\n",
    "\n",
    "# Separate the target 'Boll Number'\n",
    "y = pd.DataFrame(data['Boll Number'])\n",
    "# View y to make sure the operations were successful\n",
    "display(y.head())"
   ]
  },
  {
   "cell_type": "markdown",
   "metadata": {},
   "source": [
    "And then, we can split them into training and testing (80/20) using sklearn library:"
   ]
  },
  {
   "cell_type": "code",
   "execution_count": 21,
   "metadata": {},
   "outputs": [
    {
     "name": "stdout",
     "output_type": "stream",
     "text": [
      "(20, 1) (20, 1) (6, 1) (6, 1)\n"
     ]
    }
   ],
   "source": [
    "X_train, X_test, y_train, y_test = train_test_split(X, y, test_size=0.2, random_state=8000)\n",
    "print(X_train.shape,y_train.shape,X_test.shape,y_test.shape)\n",
    "#display(X_train.head())\n",
    "#display(y_train.head())\n",
    "#display(X_test.head())\n",
    "#display(y_test.head())"
   ]
  },
  {
   "cell_type": "markdown",
   "metadata": {},
   "source": [
    "Then, we can train the linear regression model using the training dataset:"
   ]
  },
  {
   "cell_type": "code",
   "execution_count": 22,
   "metadata": {},
   "outputs": [],
   "source": [
    "# instantiate model\n",
    "linreg = LinearRegression()\n",
    "\n",
    "# fit the model to the training data (learn the coefficients)\n",
    "linreg.fit(X_train, y_train);"
   ]
  },
  {
   "cell_type": "markdown",
   "metadata": {},
   "source": [
    "We now can interpret the results obtained by the linear regression model during trainin. Since the linear regression model tries to fit a line to the data, R-Squared should be a good metric to evaluate the fitting. Additionally, we can include also the Root Mean Squared Error (RMSE) to measure differences between values predicted by the model and the real values."
   ]
  },
  {
   "cell_type": "code",
   "execution_count": 27,
   "metadata": {},
   "outputs": [
    {
     "name": "stdout",
     "output_type": "stream",
     "text": [
      "R^2: 0.90\n"
     ]
    },
    {
     "data": {
      "image/png": "[encoded data removed]",
      "text/plain": [
       "<Figure size 432x288 with 1 Axes>"
      ]
     },
     "metadata": {},
     "output_type": "display_data"
    },
    {
     "name": "stdout",
     "output_type": "stream",
     "text": [
      "RMSE: 27.77\n",
      "Intercept = 48.19938481068874\n",
      "Slope = 0.009008599788066408\n"
     ]
    }
   ],
   "source": [
    "# Compute R-Squared\n",
    "print('R^2: %.2f' %linreg.score(X_train,y_train))\n",
    "R2 = linreg.score(X_train,y_train)\n",
    "\n",
    "# Calculate predictions on training set\n",
    "y_train_pred = linreg.predict(X_train)\n",
    "\n",
    "# Draw rgression line\n",
    "plt.scatter(X_train,y_train, color='blue')\n",
    "plt.title(\"Pixels number versus Cotton boll number\")\n",
    "plt.xlabel(\"Pixels number (Prediction)\")\n",
    "plt.ylabel(\"Boll number (Ground truth)\")\n",
    "plt.plot(X_train, y_train_pred, color='red', linewidth=2)\n",
    "plt.show()\n",
    "\n",
    "# Compute Root Mean Squared Error\n",
    "print('RMSE: %.2f' % mean_squared_error(y_train, y_train_pred)**0.5)\n",
    "\n",
    "# Intercept and coefficients\n",
    "intercept = linreg.intercept_\n",
    "slope = linreg.coef_\n",
    "print('Intercept =', intercept[0])\n",
    "print('Slope =', slope[0][0])"
   ]
  },
  {
   "cell_type": "markdown",
   "metadata": {},
   "source": [
    "And finally, we can make predictions on the testing dataset to evaluate the linear model."
   ]
  },
  {
   "cell_type": "code",
   "execution_count": 28,
   "metadata": {},
   "outputs": [],
   "source": [
    "# make predictions on the testing set\n",
    "y_test_pred = linreg.predict(X_test)"
   ]
  },
  {
   "cell_type": "code",
   "execution_count": 29,
   "metadata": {},
   "outputs": [
    {
     "data": {
      "image/png": "[encoded data removed]",
      "text/plain": [
       "<Figure size 432x288 with 1 Axes>"
      ]
     },
     "metadata": {},
     "output_type": "display_data"
    },
    {
     "name": "stdout",
     "output_type": "stream",
     "text": [
      "RMSE: 29.78\n"
     ]
    }
   ],
   "source": [
    "# Draw regression line including testing point (orange)\n",
    "plt.scatter(X_train,y_train, color='blue',label='Train')\n",
    "plt.scatter(X_test,y_test, color='orange',label='Test')\n",
    "plt.title(\"Pixels number versus Cotton boll number\")\n",
    "plt.xlabel(\"Pixels number (Prediction)\")\n",
    "plt.ylabel(\"Boll number (Ground truth)\")\n",
    "plt.plot(X_train, y_train_pred, color='red',label='y={:.2f}x+{:.2f}\\nR\\u00b2= {:.2f}'.format(slope[0][0],intercept[0],R2))\n",
    "plt.legend()\n",
    "plt.show()\n",
    "\n",
    "# Compute Root Mean Squared Error\n",
    "print('RMSE: %.2f' % mean_squared_error(y_test, y_test_pred)**0.5)"
   ]
  },
  {
   "cell_type": "markdown",
   "metadata": {},
   "source": [
    "The model achieves a RMSE of 27.77 for the training subset and 29.78 for the testing subset."
   ]
  },
  {
   "cell_type": "markdown",
   "metadata": {},
   "source": [
    " We can plot the real values versus the predicted values to visualize how well the model fits the data."
   ]
  },
  {
   "cell_type": "code",
   "execution_count": 30,
   "metadata": {},
   "outputs": [
    {
     "data": {
      "text/plain": [
       "<matplotlib.legend.Legend at 0x4a76d36b48>"
      ]
     },
     "execution_count": 30,
     "metadata": {},
     "output_type": "execute_result"
    },
    {
     "data": {
      "image/png": "[encoded data removed]",
      "text/plain": [
       "<Figure size 432x288 with 1 Axes>"
      ]
     },
     "metadata": {},
     "output_type": "display_data"
    }
   ],
   "source": [
    "# Create a scatterplot of the real test values versus the predicted values\n",
    "fig, ax1 = plt.subplots()\n",
    "fig.suptitle('Predicted values vs. True values')\n",
    "\n",
    "ax1.scatter(y_train_pred, y_train, color='blue',label='Train')\n",
    "ax1.scatter(y_test_pred, y_test, color='orange',label='Test')\n",
    "ax1.set_xlabel('Predicted Values')\n",
    "ax1.set_ylabel('True Values')\n",
    "ax1.set_xlim(0,400)\n",
    "ax1.set_ylim(0,400)\n",
    "# Add 1:1 line\n",
    "ax1.plot(ax1.get_ylim(), ax1.get_ylim(),'--',color='black',label='1:1 Line')\n",
    "ax1.legend()"
   ]
  },
  {
   "cell_type": "markdown",
   "metadata": {},
   "source": [
    "Additionally, we can plot the residuals for both subsets to visualize the performance of the model."
   ]
  },
  {
   "cell_type": "code",
   "execution_count": 31,
   "metadata": {},
   "outputs": [
    {
     "data": {
      "text/plain": [
       "Text(0, 0.5, 'Residuals')"
      ]
     },
     "execution_count": 31,
     "metadata": {},
     "output_type": "execute_result"
    },
    {
     "data": {
      "image/png": "[encoded data removed]",
      "text/plain": [
       "<Figure size 432x288 with 1 Axes>"
      ]
     },
     "metadata": {},
     "output_type": "display_data"
    }
   ],
   "source": [
    "plt.scatter(y_train_pred, y_train_pred - y_train, c='blue', label='Train')\n",
    "plt.scatter(y_test_pred, y_test_pred - y_test, c='orange', label='Test')\n",
    "plt.hlines(y=0, xmin=10, xmax=400, color='black',linestyle='dashed')\n",
    "plt.legend();\n",
    "plt.title('Cotton yield prediction: Residuals for training and testing data')\n",
    "plt.ylabel('Residuals')"
   ]
  },
  {
   "cell_type": "markdown",
   "metadata": {},
   "source": [
    "Finally, we can calculate the Mean Absolute Percentage Error (MAPE) metric:"
   ]
  },
  {
   "cell_type": "code",
   "execution_count": 32,
   "metadata": {},
   "outputs": [
    {
     "data": {
      "text/plain": [
       "14.758019711848554"
      ]
     },
     "execution_count": 32,
     "metadata": {},
     "output_type": "execute_result"
    }
   ],
   "source": [
    "# Compute MAPE for training set\n",
    "y_train, y_train_pred = np.array(y_train), np.array(y_train_pred)\n",
    "np.mean(np.abs((y_train_pred - y_train) / y_train)) * 100"
   ]
  },
  {
   "cell_type": "code",
   "execution_count": 33,
   "metadata": {},
   "outputs": [
    {
     "data": {
      "text/plain": [
       "16.403967463828906"
      ]
     },
     "execution_count": 33,
     "metadata": {},
     "output_type": "execute_result"
    }
   ],
   "source": [
    "# Compute MAPE for testing set\n",
    "y_test, y_test_pred = np.array(y_test), np.array(y_test_pred)\n",
    "np.mean(np.abs((y_test_pred - y_test) / y_test)) * 100"
   ]
  },
  {
   "cell_type": "markdown",
   "metadata": {},
   "source": [
    "Based on these results and following the MAPE criteria of Lewis for model evaluation (Lewis,1982), we can conclude that our model is a good predictor (MAPE: 10%~20%) for cotton yield from 2D images."
   ]
  }
 ],
 "metadata": {
  "kernelspec": {
   "display_name": "Python 3",
   "language": "python",
   "name": "python3"
  },
  "language_info": {
   "codemirror_mode": {
    "name": "ipython",
    "version": 3
   },
   "file_extension": ".py",
   "mimetype": "text/x-python",
   "name": "python",
   "nbconvert_exporter": "python",
   "pygments_lexer": "ipython3",
   "version": "3.7.6"
  }
 },
 "nbformat": 4,
 "nbformat_minor": 4
}
